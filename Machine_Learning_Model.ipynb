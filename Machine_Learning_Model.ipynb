{
 "cells": [
  {
   "cell_type": "markdown",
   "id": "ad496e68",
   "metadata": {},
   "source": [
    "## Importing data"
   ]
  },
  {
   "cell_type": "code",
   "execution_count": 1,
   "id": "f5c87031",
   "metadata": {},
   "outputs": [],
   "source": [
    "import pandas as pd\n",
    "import matplotlib.pyplot as plt\n",
    "import seaborn as sns\n",
    "df = pd.read_csv('merge_data_2018_2022.csv')"
   ]
  },
  {
   "cell_type": "markdown",
   "id": "b1bf4a88",
   "metadata": {},
   "source": [
    "## Set Frequency to hour"
   ]
  },
  {
   "cell_type": "code",
   "execution_count": 2,
   "id": "b0e36341",
   "metadata": {},
   "outputs": [
    {
     "data": {
      "text/plain": [
       "DatetimeIndex(['2018-01-01 01:00:00', '2018-01-01 02:00:00',\n",
       "               '2018-01-01 03:00:00', '2018-01-01 04:00:00',\n",
       "               '2018-01-01 05:00:00', '2018-01-01 06:00:00',\n",
       "               '2018-01-01 07:00:00', '2018-01-01 08:00:00',\n",
       "               '2018-01-01 09:00:00', '2018-01-01 10:00:00',\n",
       "               ...\n",
       "               '2022-08-28 15:00:00', '2022-08-28 16:00:00',\n",
       "               '2022-08-28 17:00:00', '2022-08-28 18:00:00',\n",
       "               '2022-08-28 19:00:00', '2022-08-28 20:00:00',\n",
       "               '2022-08-28 21:00:00', '2022-08-28 22:00:00',\n",
       "               '2022-08-28 23:00:00', '2022-08-29 00:00:00'],\n",
       "              dtype='datetime64[ns]', name='DATETIME', length=40824, freq='H')"
      ]
     },
     "execution_count": 2,
     "metadata": {},
     "output_type": "execute_result"
    }
   ],
   "source": [
    "df = df.set_index('DATETIME')\n",
    "df.index = pd.to_datetime(df.index)\n",
    "df=df.loc[~df.index.duplicated(), :]\n",
    "df=df.asfreq('H')\n",
    "df.index"
   ]
  },
  {
   "cell_type": "markdown",
   "id": "dbe2cdab",
   "metadata": {},
   "source": [
    "## Import data with Gas_Price"
   ]
  },
  {
   "cell_type": "code",
   "execution_count": 3,
   "id": "b5a53df3",
   "metadata": {},
   "outputs": [
    {
     "data": {
      "text/plain": [
       "DatetimeIndex(['2018-01-01 01:00:00', '2018-01-01 02:00:00',\n",
       "               '2018-01-01 03:00:00', '2018-01-01 04:00:00',\n",
       "               '2018-01-01 05:00:00', '2018-01-01 06:00:00',\n",
       "               '2018-01-01 07:00:00', '2018-01-01 08:00:00',\n",
       "               '2018-01-01 09:00:00', '2018-01-01 10:00:00',\n",
       "               ...\n",
       "               '2022-08-28 15:00:00', '2022-08-28 16:00:00',\n",
       "               '2022-08-28 17:00:00', '2022-08-28 18:00:00',\n",
       "               '2022-08-28 19:00:00', '2022-08-28 20:00:00',\n",
       "               '2022-08-28 21:00:00', '2022-08-28 22:00:00',\n",
       "               '2022-08-28 23:00:00', '2022-08-29 00:00:00'],\n",
       "              dtype='datetime64[ns]', name='DATETIME', length=40824, freq='H')"
      ]
     },
     "execution_count": 3,
     "metadata": {},
     "output_type": "execute_result"
    }
   ],
   "source": [
    "df2 = pd.read_csv('DataforTagbo.csv')\n",
    "df2 = df2.set_index('DATETIME')\n",
    "df2.index = pd.to_datetime(df.index)\n",
    "df2=df2.loc[~df.index.duplicated(), :]\n",
    "df2=df2.asfreq('H')\n",
    "df2.index\n"
   ]
  },
  {
   "cell_type": "markdown",
   "id": "b5279491",
   "metadata": {},
   "source": [
    "## Check for missing values for WakeWind LMP"
   ]
  },
  {
   "cell_type": "code",
   "execution_count": 4,
   "id": "130bb05f",
   "metadata": {},
   "outputs": [
    {
     "data": {
      "text/plain": [
       "WAKEWE_ALL..RTLMP.\n",
       "False                 40819\n",
       "True                      5\n",
       "dtype: int64"
      ]
     },
     "execution_count": 4,
     "metadata": {},
     "output_type": "execute_result"
    }
   ],
   "source": [
    "df[['WAKEWE_ALL..RTLMP.']].isnull().value_counts()"
   ]
  },
  {
   "cell_type": "markdown",
   "id": "c7770292",
   "metadata": {},
   "source": [
    "## Missing value imputation"
   ]
  },
  {
   "cell_type": "code",
   "execution_count": 5,
   "id": "2bc7a254",
   "metadata": {},
   "outputs": [
    {
     "data": {
      "text/plain": [
       "WAKEWE_ALL..RTLMP.\n",
       "False                 40824\n",
       "dtype: int64"
      ]
     },
     "execution_count": 5,
     "metadata": {},
     "output_type": "execute_result"
    }
   ],
   "source": [
    "df['WAKEWE_ALL..RTLMP.'].fillna(method='bfill', inplace=True)\n",
    "df[['WAKEWE_ALL..RTLMP.']].isnull().value_counts()"
   ]
  },
  {
   "cell_type": "markdown",
   "id": "68bce3ed",
   "metadata": {},
   "source": [
    "## Subset the required columns"
   ]
  },
  {
   "cell_type": "code",
   "execution_count": 6,
   "id": "a36a2810",
   "metadata": {},
   "outputs": [],
   "source": [
    "df = df[['WAKEWE_ALL..RTLMP.','ERCOT..WINDDATA.', 'ERCOT..LOAD_FORECAST.', 'ERCOT..WIND_STWPF.',\n",
    "             \n",
    "            'ERCOT..SOLAR_PVGRPP.', 'PEAKTYPE']]"
   ]
  },
  {
   "cell_type": "markdown",
   "id": "d62508b1",
   "metadata": {},
   "source": [
    "## Median Smoothing"
   ]
  },
  {
   "cell_type": "code",
   "execution_count": 7,
   "id": "41cf41ff",
   "metadata": {},
   "outputs": [],
   "source": [
    "rolling = df['WAKEWE_ALL..RTLMP.'].rolling(window=7)\n",
    "df['Median Smooth'] = rolling.median()"
   ]
  },
  {
   "cell_type": "markdown",
   "id": "27d49af9",
   "metadata": {},
   "source": [
    "## Feature engineering to include lag features "
   ]
  },
  {
   "cell_type": "code",
   "execution_count": 8,
   "id": "481806c4",
   "metadata": {},
   "outputs": [],
   "source": [
    "target_map = df['WAKEWE_ALL..RTLMP.'].to_dict()\n",
    "df['lag1'] = (df.index - pd.Timedelta('1 hours')).map(target_map)\n",
    "df['lag2'] = (df.index - pd.Timedelta('2 hours')).map(target_map)\n",
    "df['lag3'] = (df.index - pd.Timedelta('3 hours')).map(target_map)\n",
    "df['lag4'] = (df.index - pd.Timedelta('4 hours')).map(target_map)\n",
    "df['lag5'] = (df.index - pd.Timedelta('5 hours')).map(target_map)\n",
    "df['lag6'] = (df.index - pd.Timedelta('6 hours')).map(target_map)\n",
    "df['lag7'] = (df.index - pd.Timedelta('7 hours')).map(target_map)\n",
    "df['lag8'] = (df.index - pd.Timedelta('8 hours')).map(target_map)\n",
    "df['lag9'] = (df.index - pd.Timedelta('9 hours')).map(target_map)\n",
    "df['lag10'] = (df.index - pd.Timedelta('10 hours')).map(target_map)\n",
    "df['lag11'] = (df.index - pd.Timedelta('11 hours')).map(target_map)\n",
    "df['lag12'] = (df.index - pd.Timedelta('12 hours')).map(target_map)\n",
    "df['lag13'] = (df.index - pd.Timedelta('13 hours')).map(target_map)\n",
    "df['lag14'] = (df.index - pd.Timedelta('14 hours')).map(target_map)\n",
    "df['lag15'] = (df.index - pd.Timedelta('15 hours')).map(target_map)\n",
    "df['lag16'] = (df.index - pd.Timedelta('16 hours')).map(target_map)\n",
    "df['lag17'] = (df.index - pd.Timedelta('17 hours')).map(target_map)\n",
    "df['lag18'] = (df.index - pd.Timedelta('18 hours')).map(target_map)\n",
    "df['lag19'] = (df.index - pd.Timedelta('19 hours')).map(target_map)\n",
    "df['lag20'] = (df.index - pd.Timedelta('20 hours')).map(target_map)\n",
    "df['lag21'] = (df.index - pd.Timedelta('21 hours')).map(target_map)\n",
    "df['lag22'] = (df.index - pd.Timedelta('22 hours')).map(target_map)\n",
    "df['lag23'] = (df.index - pd.Timedelta('23 hours')).map(target_map)\n",
    "df['lag24'] = (df.index - pd.Timedelta('24 hours')).map(target_map)"
   ]
  },
  {
   "cell_type": "markdown",
   "id": "99c3ea67",
   "metadata": {},
   "source": [
    "## Feature engineering to include more features to capture seasonality effect"
   ]
  },
  {
   "cell_type": "code",
   "execution_count": 9,
   "id": "19be2aad",
   "metadata": {},
   "outputs": [],
   "source": [
    "df['hour'] = df.index.hour\n",
    "df['dayofweek'] = df.index.dayofweek\n",
    "df['quarter'] = df.index.quarter\n",
    "df['month'] = df.index.month\n",
    "df['year'] = df.index.year\n",
    "df['dayofyear'] = df.index.dayofyear\n",
    "df['dayofmonth'] = df.index.day\n",
    "df['weekofyear'] = df.index.isocalendar().week"
   ]
  },
  {
   "cell_type": "markdown",
   "id": "4a59b686",
   "metadata": {},
   "source": [
    "## Include Gas_Price"
   ]
  },
  {
   "cell_type": "code",
   "execution_count": 10,
   "id": "02c226d7",
   "metadata": {},
   "outputs": [],
   "source": [
    "df['Gas_Price'] = df2.Gas_Price"
   ]
  },
  {
   "cell_type": "markdown",
   "id": "fa12e436",
   "metadata": {},
   "source": [
    "## Code Peak_Type as an ordinal variable"
   ]
  },
  {
   "cell_type": "code",
   "execution_count": 11,
   "id": "322d41cf",
   "metadata": {},
   "outputs": [],
   "source": [
    "df['PEAKTYPE_num']= pd.factorize(df.PEAKTYPE)[0]"
   ]
  },
  {
   "cell_type": "code",
   "execution_count": 12,
   "id": "adea4699",
   "metadata": {},
   "outputs": [
    {
     "data": {
      "text/plain": [
       " 2    19056\n",
       " 0    13603\n",
       " 1     8160\n",
       "-1        5\n",
       "Name: PEAKTYPE_num, dtype: int64"
      ]
     },
     "execution_count": 12,
     "metadata": {},
     "output_type": "execute_result"
    }
   ],
   "source": [
    "df['PEAKTYPE_num'].value_counts()"
   ]
  },
  {
   "cell_type": "markdown",
   "id": "4b336537",
   "metadata": {},
   "source": [
    "## Check for missing values for the whole dataset"
   ]
  },
  {
   "cell_type": "code",
   "execution_count": 13,
   "id": "1e4f2a1e",
   "metadata": {},
   "outputs": [
    {
     "data": {
      "text/plain": [
       "WAKEWE_ALL..RTLMP.        0\n",
       "ERCOT..WINDDATA.          5\n",
       "ERCOT..LOAD_FORECAST.     5\n",
       "ERCOT..WIND_STWPF.        5\n",
       "ERCOT..SOLAR_PVGRPP.      7\n",
       "PEAKTYPE                  5\n",
       "Median Smooth             6\n",
       "lag1                      1\n",
       "lag2                      2\n",
       "lag3                      3\n",
       "lag4                      4\n",
       "lag5                      5\n",
       "lag6                      6\n",
       "lag7                      7\n",
       "lag8                      8\n",
       "lag9                      9\n",
       "lag10                    10\n",
       "lag11                    11\n",
       "lag12                    12\n",
       "lag13                    13\n",
       "lag14                    14\n",
       "lag15                    15\n",
       "lag16                    16\n",
       "lag17                    17\n",
       "lag18                    18\n",
       "lag19                    19\n",
       "lag20                    20\n",
       "lag21                    21\n",
       "lag22                    22\n",
       "lag23                    23\n",
       "lag24                    24\n",
       "hour                      0\n",
       "dayofweek                 0\n",
       "quarter                   0\n",
       "month                     0\n",
       "year                      0\n",
       "dayofyear                 0\n",
       "dayofmonth                0\n",
       "weekofyear                0\n",
       "Gas_Price                 0\n",
       "PEAKTYPE_num              0\n",
       "dtype: int64"
      ]
     },
     "execution_count": 13,
     "metadata": {},
     "output_type": "execute_result"
    }
   ],
   "source": [
    "df.isna().sum()"
   ]
  },
  {
   "cell_type": "markdown",
   "id": "942b5c41",
   "metadata": {},
   "source": [
    "## Drop missing values since the proportion is very small"
   ]
  },
  {
   "cell_type": "code",
   "execution_count": 14,
   "id": "f4b0f41e",
   "metadata": {},
   "outputs": [],
   "source": [
    "df = df.dropna()"
   ]
  },
  {
   "cell_type": "markdown",
   "id": "2542c3ba",
   "metadata": {},
   "source": [
    "## Train_Test Split for Time Series data"
   ]
  },
  {
   "cell_type": "code",
   "execution_count": 15,
   "id": "b9fc678a",
   "metadata": {},
   "outputs": [],
   "source": [
    "filt1 = (df.index<pd.to_datetime('2022-08-22'))\n",
    "train = df.loc[filt1]\n",
    "\n",
    "filt2 = (df.index>=pd.to_datetime('2022-08-22'))\n",
    "test = df.loc[filt2]\n"
   ]
  },
  {
   "cell_type": "code",
   "execution_count": 16,
   "id": "4751eee1",
   "metadata": {},
   "outputs": [],
   "source": [
    "train_y = train[['Median Smooth']]\n"
   ]
  },
  {
   "cell_type": "code",
   "execution_count": null,
   "id": "1e43b74f",
   "metadata": {},
   "outputs": [],
   "source": []
  },
  {
   "cell_type": "code",
   "execution_count": 17,
   "id": "f82b1e9c",
   "metadata": {},
   "outputs": [],
   "source": [
    "train_X = train.reset_index().drop(['DATETIME','Median Smooth', 'WAKEWE_ALL..RTLMP.', 'PEAKTYPE' \n",
    "                                    ], axis=1)"
   ]
  },
  {
   "cell_type": "code",
   "execution_count": 18,
   "id": "bdb6247f",
   "metadata": {},
   "outputs": [],
   "source": [
    "test_X = test.reset_index().drop(['DATETIME','Median Smooth', 'WAKEWE_ALL..RTLMP.', 'PEAKTYPE' \n",
    "                                    ], axis=1)"
   ]
  },
  {
   "cell_type": "code",
   "execution_count": 19,
   "id": "a0c832e4",
   "metadata": {},
   "outputs": [
    {
     "data": {
      "text/html": [
       "<div>\n",
       "<style scoped>\n",
       "    .dataframe tbody tr th:only-of-type {\n",
       "        vertical-align: middle;\n",
       "    }\n",
       "\n",
       "    .dataframe tbody tr th {\n",
       "        vertical-align: top;\n",
       "    }\n",
       "\n",
       "    .dataframe thead th {\n",
       "        text-align: right;\n",
       "    }\n",
       "</style>\n",
       "<table border=\"1\" class=\"dataframe\">\n",
       "  <thead>\n",
       "    <tr style=\"text-align: right;\">\n",
       "      <th></th>\n",
       "      <th>ERCOT..WINDDATA.</th>\n",
       "      <th>ERCOT..LOAD_FORECAST.</th>\n",
       "      <th>ERCOT..WIND_STWPF.</th>\n",
       "      <th>ERCOT..SOLAR_PVGRPP.</th>\n",
       "      <th>lag1</th>\n",
       "      <th>lag2</th>\n",
       "      <th>lag3</th>\n",
       "      <th>lag4</th>\n",
       "      <th>lag5</th>\n",
       "      <th>lag6</th>\n",
       "      <th>...</th>\n",
       "      <th>hour</th>\n",
       "      <th>dayofweek</th>\n",
       "      <th>quarter</th>\n",
       "      <th>month</th>\n",
       "      <th>year</th>\n",
       "      <th>dayofyear</th>\n",
       "      <th>dayofmonth</th>\n",
       "      <th>weekofyear</th>\n",
       "      <th>Gas_Price</th>\n",
       "      <th>PEAKTYPE_num</th>\n",
       "    </tr>\n",
       "  </thead>\n",
       "  <tbody>\n",
       "    <tr>\n",
       "      <th>0</th>\n",
       "      <td>7283.938333</td>\n",
       "      <td>51437.859985</td>\n",
       "      <td>6850.5</td>\n",
       "      <td>0.0</td>\n",
       "      <td>85.1600</td>\n",
       "      <td>89.2075</td>\n",
       "      <td>131.4950</td>\n",
       "      <td>122.5250</td>\n",
       "      <td>85.8525</td>\n",
       "      <td>83.6450</td>\n",
       "      <td>...</td>\n",
       "      <td>0</td>\n",
       "      <td>0</td>\n",
       "      <td>3</td>\n",
       "      <td>8</td>\n",
       "      <td>2022</td>\n",
       "      <td>234</td>\n",
       "      <td>22</td>\n",
       "      <td>34</td>\n",
       "      <td>9.141</td>\n",
       "      <td>0</td>\n",
       "    </tr>\n",
       "    <tr>\n",
       "      <th>1</th>\n",
       "      <td>7516.409167</td>\n",
       "      <td>47886.569580</td>\n",
       "      <td>6880.2</td>\n",
       "      <td>0.0</td>\n",
       "      <td>83.2050</td>\n",
       "      <td>85.1600</td>\n",
       "      <td>89.2075</td>\n",
       "      <td>131.4950</td>\n",
       "      <td>122.5250</td>\n",
       "      <td>85.8525</td>\n",
       "      <td>...</td>\n",
       "      <td>1</td>\n",
       "      <td>0</td>\n",
       "      <td>3</td>\n",
       "      <td>8</td>\n",
       "      <td>2022</td>\n",
       "      <td>234</td>\n",
       "      <td>22</td>\n",
       "      <td>34</td>\n",
       "      <td>9.141</td>\n",
       "      <td>0</td>\n",
       "    </tr>\n",
       "    <tr>\n",
       "      <th>2</th>\n",
       "      <td>7553.935000</td>\n",
       "      <td>46543.340210</td>\n",
       "      <td>7075.5</td>\n",
       "      <td>0.0</td>\n",
       "      <td>79.3225</td>\n",
       "      <td>83.2050</td>\n",
       "      <td>85.1600</td>\n",
       "      <td>89.2075</td>\n",
       "      <td>131.4950</td>\n",
       "      <td>122.5250</td>\n",
       "      <td>...</td>\n",
       "      <td>2</td>\n",
       "      <td>0</td>\n",
       "      <td>3</td>\n",
       "      <td>8</td>\n",
       "      <td>2022</td>\n",
       "      <td>234</td>\n",
       "      <td>22</td>\n",
       "      <td>34</td>\n",
       "      <td>9.141</td>\n",
       "      <td>0</td>\n",
       "    </tr>\n",
       "    <tr>\n",
       "      <th>3</th>\n",
       "      <td>8022.748333</td>\n",
       "      <td>45208.430298</td>\n",
       "      <td>7447.2</td>\n",
       "      <td>0.0</td>\n",
       "      <td>72.6325</td>\n",
       "      <td>79.3225</td>\n",
       "      <td>83.2050</td>\n",
       "      <td>85.1600</td>\n",
       "      <td>89.2075</td>\n",
       "      <td>131.4950</td>\n",
       "      <td>...</td>\n",
       "      <td>3</td>\n",
       "      <td>0</td>\n",
       "      <td>3</td>\n",
       "      <td>8</td>\n",
       "      <td>2022</td>\n",
       "      <td>234</td>\n",
       "      <td>22</td>\n",
       "      <td>34</td>\n",
       "      <td>9.141</td>\n",
       "      <td>0</td>\n",
       "    </tr>\n",
       "    <tr>\n",
       "      <th>4</th>\n",
       "      <td>8150.339167</td>\n",
       "      <td>44741.349731</td>\n",
       "      <td>7156.4</td>\n",
       "      <td>0.0</td>\n",
       "      <td>62.8700</td>\n",
       "      <td>72.6325</td>\n",
       "      <td>79.3225</td>\n",
       "      <td>83.2050</td>\n",
       "      <td>85.1600</td>\n",
       "      <td>89.2075</td>\n",
       "      <td>...</td>\n",
       "      <td>4</td>\n",
       "      <td>0</td>\n",
       "      <td>3</td>\n",
       "      <td>8</td>\n",
       "      <td>2022</td>\n",
       "      <td>234</td>\n",
       "      <td>22</td>\n",
       "      <td>34</td>\n",
       "      <td>9.141</td>\n",
       "      <td>0</td>\n",
       "    </tr>\n",
       "    <tr>\n",
       "      <th>...</th>\n",
       "      <td>...</td>\n",
       "      <td>...</td>\n",
       "      <td>...</td>\n",
       "      <td>...</td>\n",
       "      <td>...</td>\n",
       "      <td>...</td>\n",
       "      <td>...</td>\n",
       "      <td>...</td>\n",
       "      <td>...</td>\n",
       "      <td>...</td>\n",
       "      <td>...</td>\n",
       "      <td>...</td>\n",
       "      <td>...</td>\n",
       "      <td>...</td>\n",
       "      <td>...</td>\n",
       "      <td>...</td>\n",
       "      <td>...</td>\n",
       "      <td>...</td>\n",
       "      <td>...</td>\n",
       "      <td>...</td>\n",
       "      <td>...</td>\n",
       "    </tr>\n",
       "    <tr>\n",
       "      <th>164</th>\n",
       "      <td>17455.504167</td>\n",
       "      <td>67591.720459</td>\n",
       "      <td>17960.7</td>\n",
       "      <td>859.6</td>\n",
       "      <td>73.6950</td>\n",
       "      <td>89.0425</td>\n",
       "      <td>236.8050</td>\n",
       "      <td>95.6050</td>\n",
       "      <td>104.1375</td>\n",
       "      <td>87.5225</td>\n",
       "      <td>...</td>\n",
       "      <td>20</td>\n",
       "      <td>6</td>\n",
       "      <td>3</td>\n",
       "      <td>8</td>\n",
       "      <td>2022</td>\n",
       "      <td>240</td>\n",
       "      <td>28</td>\n",
       "      <td>34</td>\n",
       "      <td>9.503</td>\n",
       "      <td>1</td>\n",
       "    </tr>\n",
       "    <tr>\n",
       "      <th>165</th>\n",
       "      <td>15974.634167</td>\n",
       "      <td>65272.369751</td>\n",
       "      <td>16203.7</td>\n",
       "      <td>32.7</td>\n",
       "      <td>78.2375</td>\n",
       "      <td>73.6950</td>\n",
       "      <td>89.0425</td>\n",
       "      <td>236.8050</td>\n",
       "      <td>95.6050</td>\n",
       "      <td>104.1375</td>\n",
       "      <td>...</td>\n",
       "      <td>21</td>\n",
       "      <td>6</td>\n",
       "      <td>3</td>\n",
       "      <td>8</td>\n",
       "      <td>2022</td>\n",
       "      <td>240</td>\n",
       "      <td>28</td>\n",
       "      <td>34</td>\n",
       "      <td>9.503</td>\n",
       "      <td>1</td>\n",
       "    </tr>\n",
       "    <tr>\n",
       "      <th>166</th>\n",
       "      <td>16934.967500</td>\n",
       "      <td>63054.700073</td>\n",
       "      <td>16918.6</td>\n",
       "      <td>0.0</td>\n",
       "      <td>84.2475</td>\n",
       "      <td>78.2375</td>\n",
       "      <td>73.6950</td>\n",
       "      <td>89.0425</td>\n",
       "      <td>236.8050</td>\n",
       "      <td>95.6050</td>\n",
       "      <td>...</td>\n",
       "      <td>22</td>\n",
       "      <td>6</td>\n",
       "      <td>3</td>\n",
       "      <td>8</td>\n",
       "      <td>2022</td>\n",
       "      <td>240</td>\n",
       "      <td>28</td>\n",
       "      <td>34</td>\n",
       "      <td>9.503</td>\n",
       "      <td>1</td>\n",
       "    </tr>\n",
       "    <tr>\n",
       "      <th>167</th>\n",
       "      <td>16186.700000</td>\n",
       "      <td>59536.980347</td>\n",
       "      <td>16440.9</td>\n",
       "      <td>0.0</td>\n",
       "      <td>73.8950</td>\n",
       "      <td>84.2475</td>\n",
       "      <td>78.2375</td>\n",
       "      <td>73.6950</td>\n",
       "      <td>89.0425</td>\n",
       "      <td>236.8050</td>\n",
       "      <td>...</td>\n",
       "      <td>23</td>\n",
       "      <td>6</td>\n",
       "      <td>3</td>\n",
       "      <td>8</td>\n",
       "      <td>2022</td>\n",
       "      <td>240</td>\n",
       "      <td>28</td>\n",
       "      <td>34</td>\n",
       "      <td>9.503</td>\n",
       "      <td>0</td>\n",
       "    </tr>\n",
       "    <tr>\n",
       "      <th>168</th>\n",
       "      <td>14462.857500</td>\n",
       "      <td>55407.519165</td>\n",
       "      <td>14565.8</td>\n",
       "      <td>0.0</td>\n",
       "      <td>82.8525</td>\n",
       "      <td>73.8950</td>\n",
       "      <td>84.2475</td>\n",
       "      <td>78.2375</td>\n",
       "      <td>73.6950</td>\n",
       "      <td>89.0425</td>\n",
       "      <td>...</td>\n",
       "      <td>0</td>\n",
       "      <td>0</td>\n",
       "      <td>3</td>\n",
       "      <td>8</td>\n",
       "      <td>2022</td>\n",
       "      <td>241</td>\n",
       "      <td>29</td>\n",
       "      <td>35</td>\n",
       "      <td>9.503</td>\n",
       "      <td>0</td>\n",
       "    </tr>\n",
       "  </tbody>\n",
       "</table>\n",
       "<p>169 rows × 38 columns</p>\n",
       "</div>"
      ],
      "text/plain": [
       "     ERCOT..WINDDATA.  ERCOT..LOAD_FORECAST.  ERCOT..WIND_STWPF.  \\\n",
       "0         7283.938333           51437.859985              6850.5   \n",
       "1         7516.409167           47886.569580              6880.2   \n",
       "2         7553.935000           46543.340210              7075.5   \n",
       "3         8022.748333           45208.430298              7447.2   \n",
       "4         8150.339167           44741.349731              7156.4   \n",
       "..                ...                    ...                 ...   \n",
       "164      17455.504167           67591.720459             17960.7   \n",
       "165      15974.634167           65272.369751             16203.7   \n",
       "166      16934.967500           63054.700073             16918.6   \n",
       "167      16186.700000           59536.980347             16440.9   \n",
       "168      14462.857500           55407.519165             14565.8   \n",
       "\n",
       "     ERCOT..SOLAR_PVGRPP.     lag1     lag2      lag3      lag4      lag5  \\\n",
       "0                     0.0  85.1600  89.2075  131.4950  122.5250   85.8525   \n",
       "1                     0.0  83.2050  85.1600   89.2075  131.4950  122.5250   \n",
       "2                     0.0  79.3225  83.2050   85.1600   89.2075  131.4950   \n",
       "3                     0.0  72.6325  79.3225   83.2050   85.1600   89.2075   \n",
       "4                     0.0  62.8700  72.6325   79.3225   83.2050   85.1600   \n",
       "..                    ...      ...      ...       ...       ...       ...   \n",
       "164                 859.6  73.6950  89.0425  236.8050   95.6050  104.1375   \n",
       "165                  32.7  78.2375  73.6950   89.0425  236.8050   95.6050   \n",
       "166                   0.0  84.2475  78.2375   73.6950   89.0425  236.8050   \n",
       "167                   0.0  73.8950  84.2475   78.2375   73.6950   89.0425   \n",
       "168                   0.0  82.8525  73.8950   84.2475   78.2375   73.6950   \n",
       "\n",
       "         lag6  ...  hour  dayofweek  quarter  month  year  dayofyear  \\\n",
       "0     83.6450  ...     0          0        3      8  2022        234   \n",
       "1     85.8525  ...     1          0        3      8  2022        234   \n",
       "2    122.5250  ...     2          0        3      8  2022        234   \n",
       "3    131.4950  ...     3          0        3      8  2022        234   \n",
       "4     89.2075  ...     4          0        3      8  2022        234   \n",
       "..        ...  ...   ...        ...      ...    ...   ...        ...   \n",
       "164   87.5225  ...    20          6        3      8  2022        240   \n",
       "165  104.1375  ...    21          6        3      8  2022        240   \n",
       "166   95.6050  ...    22          6        3      8  2022        240   \n",
       "167  236.8050  ...    23          6        3      8  2022        240   \n",
       "168   89.0425  ...     0          0        3      8  2022        241   \n",
       "\n",
       "     dayofmonth  weekofyear  Gas_Price  PEAKTYPE_num  \n",
       "0            22          34      9.141             0  \n",
       "1            22          34      9.141             0  \n",
       "2            22          34      9.141             0  \n",
       "3            22          34      9.141             0  \n",
       "4            22          34      9.141             0  \n",
       "..          ...         ...        ...           ...  \n",
       "164          28          34      9.503             1  \n",
       "165          28          34      9.503             1  \n",
       "166          28          34      9.503             1  \n",
       "167          28          34      9.503             0  \n",
       "168          29          35      9.503             0  \n",
       "\n",
       "[169 rows x 38 columns]"
      ]
     },
     "execution_count": 19,
     "metadata": {},
     "output_type": "execute_result"
    }
   ],
   "source": [
    "test_X"
   ]
  },
  {
   "cell_type": "markdown",
   "id": "0b303b01",
   "metadata": {},
   "source": [
    "## Model building & training. (use huber loss to deal with remianing extreme values)"
   ]
  },
  {
   "cell_type": "code",
   "execution_count": 20,
   "id": "879c7896",
   "metadata": {},
   "outputs": [
    {
     "name": "stderr",
     "output_type": "stream",
     "text": [
      "C:\\Users\\Tagbo Aroh\\Miniconda3\\lib\\site-packages\\sklearn\\ensemble\\_gb.py:494: DataConversionWarning: A column-vector y was passed when a 1d array was expected. Please change the shape of y to (n_samples, ), for example using ravel().\n",
      "  y = column_or_1d(y, warn=True)\n"
     ]
    },
    {
     "data": {
      "text/plain": [
       "GradientBoostingRegressor(learning_rate=0.01, loss='huber', max_depth=4,\n",
       "                          min_samples_split=5, n_estimators=500)"
      ]
     },
     "execution_count": 20,
     "metadata": {},
     "output_type": "execute_result"
    }
   ],
   "source": [
    "from sklearn.ensemble import GradientBoostingRegressor\n",
    "params = {\n",
    "    \"n_estimators\": 500,\n",
    "    \"max_depth\": 4,\n",
    "    \"min_samples_split\": 5,\n",
    "    \"learning_rate\": 0.01,\n",
    "    \"loss\": \"huber\",\n",
    "}\n",
    "forest_reg = GradientBoostingRegressor(**params)\n",
    "forest_reg.fit(train_X, train_y)"
   ]
  },
  {
   "cell_type": "markdown",
   "id": "268bf768",
   "metadata": {},
   "source": [
    "## Feature importance"
   ]
  },
  {
   "cell_type": "code",
   "execution_count": 21,
   "id": "cc61021d",
   "metadata": {},
   "outputs": [
    {
     "data": {
      "image/png": "[encoded data removed]",
      "text/plain": [
       "<Figure size 864x432 with 1 Axes>"
      ]
     },
     "metadata": {
      "needs_background": "light"
     },
     "output_type": "display_data"
    }
   ],
   "source": [
    "feat_importances = pd.Series(forest_reg.feature_importances_, index=train_X.columns)\n",
    "feat_importances.nlargest(10).plot(kind='barh', figsize=(12,6))\n",
    "plt.show()"
   ]
  },
  {
   "cell_type": "markdown",
   "id": "5a8fa08b",
   "metadata": {},
   "source": [
    "## Model testing for week ahead"
   ]
  },
  {
   "cell_type": "code",
   "execution_count": 22,
   "id": "e64fbbf6",
   "metadata": {},
   "outputs": [],
   "source": [
    "pred1 = forest_reg.predict(test_X)"
   ]
  },
  {
   "cell_type": "code",
   "execution_count": 23,
   "id": "23294e7e",
   "metadata": {},
   "outputs": [],
   "source": [
    "tt = test['Median Smooth'].reset_index()"
   ]
  },
  {
   "cell_type": "code",
   "execution_count": 24,
   "id": "a8bca206",
   "metadata": {},
   "outputs": [
    {
     "data": {
      "image/png": "[encoded data removed]",
      "text/plain": [
       "<Figure size 864x432 with 1 Axes>"
      ]
     },
     "metadata": {
      "needs_background": "light"
     },
     "output_type": "display_data"
    }
   ],
   "source": [
    "tt['True_week'] = tt['Median Smooth']\n",
    "tt['Predicted_week'] = pred1\n",
    "tt[['True_week', 'Predicted_week']].plot(legend=True,figsize=(12,6))\n",
    "plt.show()"
   ]
  },
  {
   "cell_type": "code",
   "execution_count": 25,
   "id": "0295e928",
   "metadata": {},
   "outputs": [
    {
     "name": "stdout",
     "output_type": "stream",
     "text": [
      "SMAPE for XGBOOST for week ahead :  4.648%\n"
     ]
    }
   ],
   "source": [
    "import numpy as np\n",
    "def smape(A, F):\n",
    "    return 100/len(A) * np.sum(2 * np.abs(F - A) / (np.abs(A) + np.abs(F)))\n",
    "err1 = smape(tt['Median Smooth'], pred1)\n",
    "print('SMAPE for XGBOOST for week ahead : ', \"{:.4}%\".format(err1))"
   ]
  },
  {
   "cell_type": "markdown",
   "id": "0d94d848",
   "metadata": {},
   "source": [
    "## Model testing for day ahead"
   ]
  },
  {
   "cell_type": "code",
   "execution_count": 26,
   "id": "c07cc1a1",
   "metadata": {},
   "outputs": [],
   "source": [
    "pred2 = forest_reg.predict(test_X.iloc[:24,])"
   ]
  },
  {
   "cell_type": "code",
   "execution_count": 27,
   "id": "663ea9c6",
   "metadata": {},
   "outputs": [
    {
     "data": {
      "image/png": "[encoded data removed]",
      "text/plain": [
       "<Figure size 864x432 with 1 Axes>"
      ]
     },
     "metadata": {
      "needs_background": "light"
     },
     "output_type": "display_data"
    }
   ],
   "source": [
    "aa = pd.DataFrame(pred2, columns = ['Predicted_1day'])\n",
    "bb = pd.DataFrame(tt['Median Smooth'].iloc[:24,])\n",
    "aa['True_1day'] = bb['Median Smooth']\n",
    "aa.plot(legend=True,figsize=(12,6))\n",
    "plt.show()"
   ]
  },
  {
   "cell_type": "code",
   "execution_count": 28,
   "id": "d823831b",
   "metadata": {},
   "outputs": [
    {
     "name": "stdout",
     "output_type": "stream",
     "text": [
      "SMAPE for XGBOOST for day ahead:  3.799%\n"
     ]
    }
   ],
   "source": [
    "import numpy as np\n",
    "def smape(A, F):\n",
    "    return 100/len(A) * np.sum(2 * np.abs(F - A) / (np.abs(A) + np.abs(F)))\n",
    "err1 = smape(tt['Median Smooth'].iloc[:24,], pred2)\n",
    "print('SMAPE for XGBOOST for day ahead: ', \"{:.4}%\".format(err1))"
   ]
  },
  {
   "cell_type": "markdown",
   "id": "8a17afbc",
   "metadata": {},
   "source": [
    "## Decision Tree Model"
   ]
  },
  {
   "cell_type": "code",
   "execution_count": 31,
   "id": "4c5098a8",
   "metadata": {},
   "outputs": [
    {
     "data": {
      "image/png": "[encoded data removed]",
      "text/plain": [
       "<Figure size 864x432 with 1 Axes>"
      ]
     },
     "metadata": {
      "needs_background": "light"
     },
     "output_type": "display_data"
    }
   ],
   "source": [
    "from sklearn.tree import DecisionTreeRegressor\n",
    "regrtree = DecisionTreeRegressor(max_leaf_nodes = 5)\n",
    "regrtree.fit(train_X, train_y)\n",
    "feat_importances = pd.Series(regrtree.feature_importances_, index=train_X.columns)\n",
    "feat_importances.nlargest(10).plot(kind='barh', figsize=(12,6))\n",
    "plt.show()"
   ]
  },
  {
   "cell_type": "code",
   "execution_count": 32,
   "id": "fdba441e",
   "metadata": {},
   "outputs": [
    {
     "name": "stdout",
     "output_type": "stream",
     "text": [
      "SMAPE for Decision Tree for week ahead :  121.9%\n"
     ]
    }
   ],
   "source": [
    "pred1 = regrtree.predict(test_X)\n",
    "err1 = smape(tt['Median Smooth'], pred1)\n",
    "print('SMAPE for Decision Tree for week ahead : ', \"{:.4}%\".format(err1))\n"
   ]
  },
  {
   "cell_type": "markdown",
   "id": "4878be80",
   "metadata": {},
   "source": [
    "## Random Forest Model"
   ]
  },
  {
   "cell_type": "code",
   "execution_count": 34,
   "id": "f78810ed",
   "metadata": {},
   "outputs": [
    {
     "name": "stderr",
     "output_type": "stream",
     "text": [
      "C:\\Users\\TAGBOA~1\\AppData\\Local\\Temp/ipykernel_47724/753912659.py:3: DataConversionWarning: A column-vector y was passed when a 1d array was expected. Please change the shape of y to (n_samples,), for example using ravel().\n",
      "  forest_reg.fit(train_X, train_y)\n"
     ]
    },
    {
     "data": {
      "image/png": "[encoded data removed]",
      "text/plain": [
       "<Figure size 864x432 with 1 Axes>"
      ]
     },
     "metadata": {
      "needs_background": "light"
     },
     "output_type": "display_data"
    }
   ],
   "source": [
    "from sklearn.ensemble import RandomForestRegressor\n",
    "forest_reg = RandomForestRegressor(random_state=42)\n",
    "forest_reg.fit(train_X, train_y)\n",
    "feat_importances = pd.Series(forest_reg.feature_importances_, index=train_X.columns)\n",
    "feat_importances.nlargest(10).plot(kind='barh', figsize=(12,6))\n",
    "plt.show()"
   ]
  },
  {
   "cell_type": "code",
   "execution_count": 36,
   "id": "7c5afc13",
   "metadata": {},
   "outputs": [
    {
     "data": {
      "image/png": "[encoded data removed]",
      "text/plain": [
       "<Figure size 864x432 with 1 Axes>"
      ]
     },
     "metadata": {
      "needs_background": "light"
     },
     "output_type": "display_data"
    }
   ],
   "source": [
    "forest_pred = forest_reg.predict(test_X)\n",
    "tt['RF_Predicted_week'] = forest_pred\n",
    "tt[['True_week', 'RF_Predicted_week']].plot(legend=True,figsize=(12,6))\n",
    "plt.show()"
   ]
  },
  {
   "cell_type": "code",
   "execution_count": 37,
   "id": "3322c56a",
   "metadata": {},
   "outputs": [
    {
     "name": "stdout",
     "output_type": "stream",
     "text": [
      "SMAPE for Random Forest for week ahead :  2.777%\n"
     ]
    }
   ],
   "source": [
    "\n",
    "err1 = smape(tt['Median Smooth'], forest_pred)\n",
    "print('SMAPE for Random Forest for week ahead : ', \"{:.4}%\".format(err1))\n"
   ]
  },
  {
   "cell_type": "code",
   "execution_count": 39,
   "id": "586e4244",
   "metadata": {},
   "outputs": [
    {
     "data": {
      "text/html": [
       "<div>\n",
       "<style scoped>\n",
       "    .dataframe tbody tr th:only-of-type {\n",
       "        vertical-align: middle;\n",
       "    }\n",
       "\n",
       "    .dataframe tbody tr th {\n",
       "        vertical-align: top;\n",
       "    }\n",
       "\n",
       "    .dataframe thead th {\n",
       "        text-align: right;\n",
       "    }\n",
       "</style>\n",
       "<table border=\"1\" class=\"dataframe\">\n",
       "  <thead>\n",
       "    <tr style=\"text-align: right;\">\n",
       "      <th></th>\n",
       "      <th>True_week</th>\n",
       "      <th>RF_Predicted_week</th>\n",
       "    </tr>\n",
       "  </thead>\n",
       "  <tbody>\n",
       "    <tr>\n",
       "      <th>0</th>\n",
       "      <td>85.8525</td>\n",
       "      <td>88.726925</td>\n",
       "    </tr>\n",
       "    <tr>\n",
       "      <th>1</th>\n",
       "      <td>85.8525</td>\n",
       "      <td>89.222025</td>\n",
       "    </tr>\n",
       "    <tr>\n",
       "      <th>2</th>\n",
       "      <td>85.1600</td>\n",
       "      <td>86.977825</td>\n",
       "    </tr>\n",
       "    <tr>\n",
       "      <th>3</th>\n",
       "      <td>83.2050</td>\n",
       "      <td>83.431300</td>\n",
       "    </tr>\n",
       "    <tr>\n",
       "      <th>4</th>\n",
       "      <td>79.3225</td>\n",
       "      <td>79.325900</td>\n",
       "    </tr>\n",
       "    <tr>\n",
       "      <th>5</th>\n",
       "      <td>72.6325</td>\n",
       "      <td>72.879800</td>\n",
       "    </tr>\n",
       "    <tr>\n",
       "      <th>6</th>\n",
       "      <td>72.6325</td>\n",
       "      <td>65.289900</td>\n",
       "    </tr>\n",
       "    <tr>\n",
       "      <th>7</th>\n",
       "      <td>72.6325</td>\n",
       "      <td>66.564425</td>\n",
       "    </tr>\n",
       "    <tr>\n",
       "      <th>8</th>\n",
       "      <td>72.6325</td>\n",
       "      <td>67.976225</td>\n",
       "    </tr>\n",
       "    <tr>\n",
       "      <th>9</th>\n",
       "      <td>78.4625</td>\n",
       "      <td>77.568025</td>\n",
       "    </tr>\n",
       "    <tr>\n",
       "      <th>10</th>\n",
       "      <td>81.4725</td>\n",
       "      <td>79.714150</td>\n",
       "    </tr>\n",
       "    <tr>\n",
       "      <th>11</th>\n",
       "      <td>81.5225</td>\n",
       "      <td>80.380150</td>\n",
       "    </tr>\n",
       "    <tr>\n",
       "      <th>12</th>\n",
       "      <td>81.5225</td>\n",
       "      <td>81.425475</td>\n",
       "    </tr>\n",
       "    <tr>\n",
       "      <th>13</th>\n",
       "      <td>81.5225</td>\n",
       "      <td>81.562775</td>\n",
       "    </tr>\n",
       "    <tr>\n",
       "      <th>14</th>\n",
       "      <td>81.4725</td>\n",
       "      <td>80.576750</td>\n",
       "    </tr>\n",
       "    <tr>\n",
       "      <th>15</th>\n",
       "      <td>79.1275</td>\n",
       "      <td>78.357725</td>\n",
       "    </tr>\n",
       "    <tr>\n",
       "      <th>16</th>\n",
       "      <td>78.7100</td>\n",
       "      <td>77.962375</td>\n",
       "    </tr>\n",
       "    <tr>\n",
       "      <th>17</th>\n",
       "      <td>78.7100</td>\n",
       "      <td>78.195600</td>\n",
       "    </tr>\n",
       "    <tr>\n",
       "      <th>18</th>\n",
       "      <td>78.7100</td>\n",
       "      <td>79.137025</td>\n",
       "    </tr>\n",
       "    <tr>\n",
       "      <th>19</th>\n",
       "      <td>79.1275</td>\n",
       "      <td>80.547475</td>\n",
       "    </tr>\n",
       "    <tr>\n",
       "      <th>20</th>\n",
       "      <td>85.8775</td>\n",
       "      <td>86.056925</td>\n",
       "    </tr>\n",
       "    <tr>\n",
       "      <th>21</th>\n",
       "      <td>91.9825</td>\n",
       "      <td>96.261925</td>\n",
       "    </tr>\n",
       "    <tr>\n",
       "      <th>22</th>\n",
       "      <td>91.9825</td>\n",
       "      <td>108.343100</td>\n",
       "    </tr>\n",
       "    <tr>\n",
       "      <th>23</th>\n",
       "      <td>91.9825</td>\n",
       "      <td>108.266050</td>\n",
       "    </tr>\n",
       "    <tr>\n",
       "      <th>24</th>\n",
       "      <td>91.9825</td>\n",
       "      <td>103.285725</td>\n",
       "    </tr>\n",
       "    <tr>\n",
       "      <th>25</th>\n",
       "      <td>90.2050</td>\n",
       "      <td>93.947775</td>\n",
       "    </tr>\n",
       "    <tr>\n",
       "      <th>26</th>\n",
       "      <td>82.5125</td>\n",
       "      <td>87.031250</td>\n",
       "    </tr>\n",
       "    <tr>\n",
       "      <th>27</th>\n",
       "      <td>82.2775</td>\n",
       "      <td>84.136675</td>\n",
       "    </tr>\n",
       "    <tr>\n",
       "      <th>28</th>\n",
       "      <td>82.2050</td>\n",
       "      <td>82.361400</td>\n",
       "    </tr>\n",
       "    <tr>\n",
       "      <th>29</th>\n",
       "      <td>82.2050</td>\n",
       "      <td>81.764425</td>\n",
       "    </tr>\n",
       "  </tbody>\n",
       "</table>\n",
       "</div>"
      ],
      "text/plain": [
       "    True_week  RF_Predicted_week\n",
       "0     85.8525          88.726925\n",
       "1     85.8525          89.222025\n",
       "2     85.1600          86.977825\n",
       "3     83.2050          83.431300\n",
       "4     79.3225          79.325900\n",
       "5     72.6325          72.879800\n",
       "6     72.6325          65.289900\n",
       "7     72.6325          66.564425\n",
       "8     72.6325          67.976225\n",
       "9     78.4625          77.568025\n",
       "10    81.4725          79.714150\n",
       "11    81.5225          80.380150\n",
       "12    81.5225          81.425475\n",
       "13    81.5225          81.562775\n",
       "14    81.4725          80.576750\n",
       "15    79.1275          78.357725\n",
       "16    78.7100          77.962375\n",
       "17    78.7100          78.195600\n",
       "18    78.7100          79.137025\n",
       "19    79.1275          80.547475\n",
       "20    85.8775          86.056925\n",
       "21    91.9825          96.261925\n",
       "22    91.9825         108.343100\n",
       "23    91.9825         108.266050\n",
       "24    91.9825         103.285725\n",
       "25    90.2050          93.947775\n",
       "26    82.5125          87.031250\n",
       "27    82.2775          84.136675\n",
       "28    82.2050          82.361400\n",
       "29    82.2050          81.764425"
      ]
     },
     "execution_count": 39,
     "metadata": {},
     "output_type": "execute_result"
    }
   ],
   "source": [
    "tt[['True_week', 'RF_Predicted_week']].head(30)"
   ]
  },
  {
   "cell_type": "code",
   "execution_count": 40,
   "id": "66c4cd6b",
   "metadata": {},
   "outputs": [
    {
     "data": {
      "image/png": "[encoded data removed]",
      "text/plain": [
       "<Figure size 864x432 with 1 Axes>"
      ]
     },
     "metadata": {
      "needs_background": "light"
     },
     "output_type": "display_data"
    }
   ],
   "source": [
    "pred2 = forest_reg.predict(test_X.iloc[:24,])\n",
    "aa = pd.DataFrame(pred2, columns = ['RF_Predicted_1day'])\n",
    "bb = pd.DataFrame(tt['Median Smooth'].iloc[:24,])\n",
    "aa['True_1day'] = bb['Median Smooth']\n",
    "aa.plot(legend=True,figsize=(12,6))\n",
    "plt.show()"
   ]
  },
  {
   "cell_type": "code",
   "execution_count": 41,
   "id": "a3be0834",
   "metadata": {},
   "outputs": [
    {
     "name": "stdout",
     "output_type": "stream",
     "text": [
      "SMAPE for Random_Forest for day ahead:  3.506%\n"
     ]
    }
   ],
   "source": [
    "err1 = smape(tt['Median Smooth'].iloc[:24,], pred2)\n",
    "print('SMAPE for Random_Forest for day ahead: ', \"{:.4}%\".format(err1))"
   ]
  },
  {
   "cell_type": "code",
   "execution_count": 42,
   "id": "721a0f04",
   "metadata": {},
   "outputs": [
    {
     "data": {
      "text/html": [
       "<div>\n",
       "<style scoped>\n",
       "    .dataframe tbody tr th:only-of-type {\n",
       "        vertical-align: middle;\n",
       "    }\n",
       "\n",
       "    .dataframe tbody tr th {\n",
       "        vertical-align: top;\n",
       "    }\n",
       "\n",
       "    .dataframe thead th {\n",
       "        text-align: right;\n",
       "    }\n",
       "</style>\n",
       "<table border=\"1\" class=\"dataframe\">\n",
       "  <thead>\n",
       "    <tr style=\"text-align: right;\">\n",
       "      <th></th>\n",
       "      <th>RF_Predicted_1day</th>\n",
       "      <th>True_1day</th>\n",
       "    </tr>\n",
       "  </thead>\n",
       "  <tbody>\n",
       "    <tr>\n",
       "      <th>0</th>\n",
       "      <td>88.726925</td>\n",
       "      <td>85.8525</td>\n",
       "    </tr>\n",
       "    <tr>\n",
       "      <th>1</th>\n",
       "      <td>89.222025</td>\n",
       "      <td>85.8525</td>\n",
       "    </tr>\n",
       "    <tr>\n",
       "      <th>2</th>\n",
       "      <td>86.977825</td>\n",
       "      <td>85.1600</td>\n",
       "    </tr>\n",
       "    <tr>\n",
       "      <th>3</th>\n",
       "      <td>83.431300</td>\n",
       "      <td>83.2050</td>\n",
       "    </tr>\n",
       "    <tr>\n",
       "      <th>4</th>\n",
       "      <td>79.325900</td>\n",
       "      <td>79.3225</td>\n",
       "    </tr>\n",
       "    <tr>\n",
       "      <th>5</th>\n",
       "      <td>72.879800</td>\n",
       "      <td>72.6325</td>\n",
       "    </tr>\n",
       "    <tr>\n",
       "      <th>6</th>\n",
       "      <td>65.289900</td>\n",
       "      <td>72.6325</td>\n",
       "    </tr>\n",
       "    <tr>\n",
       "      <th>7</th>\n",
       "      <td>66.564425</td>\n",
       "      <td>72.6325</td>\n",
       "    </tr>\n",
       "    <tr>\n",
       "      <th>8</th>\n",
       "      <td>67.976225</td>\n",
       "      <td>72.6325</td>\n",
       "    </tr>\n",
       "    <tr>\n",
       "      <th>9</th>\n",
       "      <td>77.568025</td>\n",
       "      <td>78.4625</td>\n",
       "    </tr>\n",
       "    <tr>\n",
       "      <th>10</th>\n",
       "      <td>79.714150</td>\n",
       "      <td>81.4725</td>\n",
       "    </tr>\n",
       "    <tr>\n",
       "      <th>11</th>\n",
       "      <td>80.380150</td>\n",
       "      <td>81.5225</td>\n",
       "    </tr>\n",
       "    <tr>\n",
       "      <th>12</th>\n",
       "      <td>81.425475</td>\n",
       "      <td>81.5225</td>\n",
       "    </tr>\n",
       "    <tr>\n",
       "      <th>13</th>\n",
       "      <td>81.562775</td>\n",
       "      <td>81.5225</td>\n",
       "    </tr>\n",
       "    <tr>\n",
       "      <th>14</th>\n",
       "      <td>80.576750</td>\n",
       "      <td>81.4725</td>\n",
       "    </tr>\n",
       "    <tr>\n",
       "      <th>15</th>\n",
       "      <td>78.357725</td>\n",
       "      <td>79.1275</td>\n",
       "    </tr>\n",
       "    <tr>\n",
       "      <th>16</th>\n",
       "      <td>77.962375</td>\n",
       "      <td>78.7100</td>\n",
       "    </tr>\n",
       "    <tr>\n",
       "      <th>17</th>\n",
       "      <td>78.195600</td>\n",
       "      <td>78.7100</td>\n",
       "    </tr>\n",
       "    <tr>\n",
       "      <th>18</th>\n",
       "      <td>79.137025</td>\n",
       "      <td>78.7100</td>\n",
       "    </tr>\n",
       "    <tr>\n",
       "      <th>19</th>\n",
       "      <td>80.547475</td>\n",
       "      <td>79.1275</td>\n",
       "    </tr>\n",
       "    <tr>\n",
       "      <th>20</th>\n",
       "      <td>86.056925</td>\n",
       "      <td>85.8775</td>\n",
       "    </tr>\n",
       "    <tr>\n",
       "      <th>21</th>\n",
       "      <td>96.261925</td>\n",
       "      <td>91.9825</td>\n",
       "    </tr>\n",
       "    <tr>\n",
       "      <th>22</th>\n",
       "      <td>108.343100</td>\n",
       "      <td>91.9825</td>\n",
       "    </tr>\n",
       "    <tr>\n",
       "      <th>23</th>\n",
       "      <td>108.266050</td>\n",
       "      <td>91.9825</td>\n",
       "    </tr>\n",
       "  </tbody>\n",
       "</table>\n",
       "</div>"
      ],
      "text/plain": [
       "    RF_Predicted_1day  True_1day\n",
       "0           88.726925    85.8525\n",
       "1           89.222025    85.8525\n",
       "2           86.977825    85.1600\n",
       "3           83.431300    83.2050\n",
       "4           79.325900    79.3225\n",
       "5           72.879800    72.6325\n",
       "6           65.289900    72.6325\n",
       "7           66.564425    72.6325\n",
       "8           67.976225    72.6325\n",
       "9           77.568025    78.4625\n",
       "10          79.714150    81.4725\n",
       "11          80.380150    81.5225\n",
       "12          81.425475    81.5225\n",
       "13          81.562775    81.5225\n",
       "14          80.576750    81.4725\n",
       "15          78.357725    79.1275\n",
       "16          77.962375    78.7100\n",
       "17          78.195600    78.7100\n",
       "18          79.137025    78.7100\n",
       "19          80.547475    79.1275\n",
       "20          86.056925    85.8775\n",
       "21          96.261925    91.9825\n",
       "22         108.343100    91.9825\n",
       "23         108.266050    91.9825"
      ]
     },
     "execution_count": 42,
     "metadata": {},
     "output_type": "execute_result"
    }
   ],
   "source": [
    "aa"
   ]
  },
  {
   "cell_type": "code",
   "execution_count": 44,
   "id": "5cd4f735",
   "metadata": {},
   "outputs": [],
   "source": [
    "raw_lmp = test['WAKEWE_ALL..RTLMP.'].reset_index()"
   ]
  },
  {
   "cell_type": "code",
   "execution_count": 46,
   "id": "ded68603",
   "metadata": {},
   "outputs": [
    {
     "data": {
      "text/html": [
       "<div>\n",
       "<style scoped>\n",
       "    .dataframe tbody tr th:only-of-type {\n",
       "        vertical-align: middle;\n",
       "    }\n",
       "\n",
       "    .dataframe tbody tr th {\n",
       "        vertical-align: top;\n",
       "    }\n",
       "\n",
       "    .dataframe thead th {\n",
       "        text-align: right;\n",
       "    }\n",
       "</style>\n",
       "<table border=\"1\" class=\"dataframe\">\n",
       "  <thead>\n",
       "    <tr style=\"text-align: right;\">\n",
       "      <th></th>\n",
       "      <th>DATETIME</th>\n",
       "      <th>WAKEWE_ALL..RTLMP.</th>\n",
       "      <th>forest_pred</th>\n",
       "    </tr>\n",
       "  </thead>\n",
       "  <tbody>\n",
       "    <tr>\n",
       "      <th>0</th>\n",
       "      <td>2022-08-22 00:00:00</td>\n",
       "      <td>83.2050</td>\n",
       "      <td>88.726925</td>\n",
       "    </tr>\n",
       "    <tr>\n",
       "      <th>1</th>\n",
       "      <td>2022-08-22 01:00:00</td>\n",
       "      <td>79.3225</td>\n",
       "      <td>89.222025</td>\n",
       "    </tr>\n",
       "    <tr>\n",
       "      <th>2</th>\n",
       "      <td>2022-08-22 02:00:00</td>\n",
       "      <td>72.6325</td>\n",
       "      <td>86.977825</td>\n",
       "    </tr>\n",
       "    <tr>\n",
       "      <th>3</th>\n",
       "      <td>2022-08-22 03:00:00</td>\n",
       "      <td>62.8700</td>\n",
       "      <td>83.431300</td>\n",
       "    </tr>\n",
       "    <tr>\n",
       "      <th>4</th>\n",
       "      <td>2022-08-22 04:00:00</td>\n",
       "      <td>61.0475</td>\n",
       "      <td>79.325900</td>\n",
       "    </tr>\n",
       "    <tr>\n",
       "      <th>...</th>\n",
       "      <td>...</td>\n",
       "      <td>...</td>\n",
       "      <td>...</td>\n",
       "    </tr>\n",
       "    <tr>\n",
       "      <th>164</th>\n",
       "      <td>2022-08-28 20:00:00</td>\n",
       "      <td>78.2375</td>\n",
       "      <td>100.341025</td>\n",
       "    </tr>\n",
       "    <tr>\n",
       "      <th>165</th>\n",
       "      <td>2022-08-28 21:00:00</td>\n",
       "      <td>84.2475</td>\n",
       "      <td>90.764400</td>\n",
       "    </tr>\n",
       "    <tr>\n",
       "      <th>166</th>\n",
       "      <td>2022-08-28 22:00:00</td>\n",
       "      <td>73.8950</td>\n",
       "      <td>82.235275</td>\n",
       "    </tr>\n",
       "    <tr>\n",
       "      <th>167</th>\n",
       "      <td>2022-08-28 23:00:00</td>\n",
       "      <td>82.8525</td>\n",
       "      <td>81.019050</td>\n",
       "    </tr>\n",
       "    <tr>\n",
       "      <th>168</th>\n",
       "      <td>2022-08-29 00:00:00</td>\n",
       "      <td>83.2800</td>\n",
       "      <td>81.534725</td>\n",
       "    </tr>\n",
       "  </tbody>\n",
       "</table>\n",
       "<p>169 rows × 3 columns</p>\n",
       "</div>"
      ],
      "text/plain": [
       "               DATETIME  WAKEWE_ALL..RTLMP.  forest_pred\n",
       "0   2022-08-22 00:00:00             83.2050    88.726925\n",
       "1   2022-08-22 01:00:00             79.3225    89.222025\n",
       "2   2022-08-22 02:00:00             72.6325    86.977825\n",
       "3   2022-08-22 03:00:00             62.8700    83.431300\n",
       "4   2022-08-22 04:00:00             61.0475    79.325900\n",
       "..                  ...                 ...          ...\n",
       "164 2022-08-28 20:00:00             78.2375   100.341025\n",
       "165 2022-08-28 21:00:00             84.2475    90.764400\n",
       "166 2022-08-28 22:00:00             73.8950    82.235275\n",
       "167 2022-08-28 23:00:00             82.8525    81.019050\n",
       "168 2022-08-29 00:00:00             83.2800    81.534725\n",
       "\n",
       "[169 rows x 3 columns]"
      ]
     },
     "execution_count": 46,
     "metadata": {},
     "output_type": "execute_result"
    }
   ],
   "source": [
    "raw_lmp['forest_pred'] = forest_pred\n",
    "raw_lmp"
   ]
  },
  {
   "cell_type": "code",
   "execution_count": 47,
   "id": "4aca2824",
   "metadata": {},
   "outputs": [],
   "source": [
    "train_y2 = train['WAKEWE_ALL..RTLMP.']"
   ]
  },
  {
   "cell_type": "code",
   "execution_count": 48,
   "id": "260e6680",
   "metadata": {},
   "outputs": [
    {
     "data": {
      "image/png": "[encoded data removed]",
      "text/plain": [
       "<Figure size 864x432 with 1 Axes>"
      ]
     },
     "metadata": {
      "needs_background": "light"
     },
     "output_type": "display_data"
    }
   ],
   "source": [
    "from sklearn.ensemble import RandomForestRegressor\n",
    "forest_reg = RandomForestRegressor(random_state=42)\n",
    "forest_reg.fit(train_X, train_y2)\n",
    "feat_importances = pd.Series(forest_reg.feature_importances_, index=train_X.columns)\n",
    "feat_importances.nlargest(10).plot(kind='barh', figsize=(12,6))\n",
    "plt.show()"
   ]
  },
  {
   "cell_type": "code",
   "execution_count": null,
   "id": "503f5d27",
   "metadata": {},
   "outputs": [],
   "source": [
    "forest_pred2 = forest_reg.predict(test_X)\n",
    "tt['RF_Predicted_week'] = forest_pred\n",
    "tt[['True_week', 'RF_Predicted_week']].plot(legend=True,figsize=(12,6))\n",
    "plt.show()"
   ]
  }
 ],
 "metadata": {
  "kernelspec": {
   "display_name": "Python 3 (ipykernel)",
   "language": "python",
   "name": "python3"
  },
  "language_info": {
   "codemirror_mode": {
    "name": "ipython",
    "version": 3
   },
   "file_extension": ".py",
   "mimetype": "text/x-python",
   "name": "python",
   "nbconvert_exporter": "python",
   "pygments_lexer": "ipython3",
   "version": "3.9.5"
  }
 },
 "nbformat": 4,
 "nbformat_minor": 5
}
